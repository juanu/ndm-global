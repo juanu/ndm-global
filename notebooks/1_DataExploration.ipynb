{
 "cells": [
  {
   "cell_type": "markdown",
   "metadata": {},
   "source": [
    "# Data Exploration and Cleaning\n",
    "\n",
    "This notebook contains some exploration of the dataset and some cleaning for further analysis. The Readme file for the repository contains information on the data source. \n",
    "\n",
    "Because the CSV is compressed and present in the repository as a XZ file, and read directly compressed with Pandas."
   ]
  },
  {
   "cell_type": "code",
   "execution_count": 5,
   "metadata": {},
   "outputs": [],
   "source": [
    "import pandas as pd"
   ]
  },
  {
   "cell_type": "markdown",
   "metadata": {},
   "source": [
    "First, we load the data, and explore its structure"
   ]
  },
  {
   "cell_type": "code",
   "execution_count": 10,
   "metadata": {},
   "outputs": [
    {
     "data": {
      "text/plain": [
       "(138864, 18)"
      ]
     },
     "execution_count": 10,
     "metadata": {},
     "output_type": "execute_result"
    }
   ],
   "source": [
    "df = pd.read_csv(\"../data/bq-results-20240802-233415-1722641679845.csv.xz\", \n",
    "                 compression='xz')\n",
    "df.shape"
   ]
  },
  {
   "cell_type": "code",
   "execution_count": 12,
   "metadata": {},
   "outputs": [
    {
     "data": {
      "text/html": [
       "<div>\n",
       "<style scoped>\n",
       "    .dataframe tbody tr th:only-of-type {\n",
       "        vertical-align: middle;\n",
       "    }\n",
       "\n",
       "    .dataframe tbody tr th {\n",
       "        vertical-align: top;\n",
       "    }\n",
       "\n",
       "    .dataframe thead th {\n",
       "        text-align: right;\n",
       "    }\n",
       "</style>\n",
       "<table border=\"1\" class=\"dataframe\">\n",
       "  <thead>\n",
       "    <tr style=\"text-align: right;\">\n",
       "      <th></th>\n",
       "      <th>scientific_name</th>\n",
       "      <th>contig_acc</th>\n",
       "      <th>biosample_acc</th>\n",
       "      <th>bioproject_acc</th>\n",
       "      <th>target_acc</th>\n",
       "      <th>element_symbol</th>\n",
       "      <th>protein_acc</th>\n",
       "      <th>type</th>\n",
       "      <th>class</th>\n",
       "      <th>subclass</th>\n",
       "      <th>taxgroup_name</th>\n",
       "      <th>strain</th>\n",
       "      <th>serovar</th>\n",
       "      <th>isolation_source</th>\n",
       "      <th>geo_loc_name</th>\n",
       "      <th>epi_type</th>\n",
       "      <th>host</th>\n",
       "      <th>collection_date</th>\n",
       "    </tr>\n",
       "  </thead>\n",
       "  <tbody>\n",
       "    <tr>\n",
       "      <th>0</th>\n",
       "      <td>Salmonella enterica</td>\n",
       "      <td>AAFUZC010000051.1</td>\n",
       "      <td>SAMN03098832</td>\n",
       "      <td>NaN</td>\n",
       "      <td>PDT000041084.2</td>\n",
       "      <td>blaDHA</td>\n",
       "      <td>NaN</td>\n",
       "      <td>AMR</td>\n",
       "      <td>BETA-LACTAM</td>\n",
       "      <td>CEPHALOSPORIN</td>\n",
       "      <td>Salmonella enterica</td>\n",
       "      <td>AM49198</td>\n",
       "      <td>NaN</td>\n",
       "      <td>NaN</td>\n",
       "      <td>USA</td>\n",
       "      <td>clinical</td>\n",
       "      <td>NaN</td>\n",
       "      <td>NaN</td>\n",
       "    </tr>\n",
       "    <tr>\n",
       "      <th>1</th>\n",
       "      <td>Salmonella enterica</td>\n",
       "      <td>AAFUZC010000051.1</td>\n",
       "      <td>SAMN03098832</td>\n",
       "      <td>NaN</td>\n",
       "      <td>PDT000041084.2</td>\n",
       "      <td>ble</td>\n",
       "      <td>EBK1426116.1</td>\n",
       "      <td>AMR</td>\n",
       "      <td>BLEOMYCIN</td>\n",
       "      <td>BLEOMYCIN</td>\n",
       "      <td>Salmonella enterica</td>\n",
       "      <td>AM49198</td>\n",
       "      <td>NaN</td>\n",
       "      <td>NaN</td>\n",
       "      <td>USA</td>\n",
       "      <td>clinical</td>\n",
       "      <td>NaN</td>\n",
       "      <td>NaN</td>\n",
       "    </tr>\n",
       "    <tr>\n",
       "      <th>2</th>\n",
       "      <td>Salmonella enterica</td>\n",
       "      <td>AAFUZC010000051.1</td>\n",
       "      <td>SAMN03098832</td>\n",
       "      <td>NaN</td>\n",
       "      <td>PDT000041084.2</td>\n",
       "      <td>blaNDM-1</td>\n",
       "      <td>EBK1426117.1</td>\n",
       "      <td>AMR</td>\n",
       "      <td>BETA-LACTAM</td>\n",
       "      <td>CARBAPENEM</td>\n",
       "      <td>Salmonella enterica</td>\n",
       "      <td>AM49198</td>\n",
       "      <td>NaN</td>\n",
       "      <td>NaN</td>\n",
       "      <td>USA</td>\n",
       "      <td>clinical</td>\n",
       "      <td>NaN</td>\n",
       "      <td>NaN</td>\n",
       "    </tr>\n",
       "    <tr>\n",
       "      <th>3</th>\n",
       "      <td>Salmonella enterica</td>\n",
       "      <td>AAFUZC010000073.1</td>\n",
       "      <td>SAMN03098832</td>\n",
       "      <td>NaN</td>\n",
       "      <td>PDT000041084.2</td>\n",
       "      <td>blaNDM-1</td>\n",
       "      <td>EBK1426163.1</td>\n",
       "      <td>AMR</td>\n",
       "      <td>BETA-LACTAM</td>\n",
       "      <td>CARBAPENEM</td>\n",
       "      <td>Salmonella enterica</td>\n",
       "      <td>AM49198</td>\n",
       "      <td>NaN</td>\n",
       "      <td>NaN</td>\n",
       "      <td>USA</td>\n",
       "      <td>clinical</td>\n",
       "      <td>NaN</td>\n",
       "      <td>NaN</td>\n",
       "    </tr>\n",
       "    <tr>\n",
       "      <th>4</th>\n",
       "      <td>Salmonella enterica</td>\n",
       "      <td>AAFUZC010000073.1</td>\n",
       "      <td>SAMN03098832</td>\n",
       "      <td>NaN</td>\n",
       "      <td>PDT000041084.2</td>\n",
       "      <td>ble</td>\n",
       "      <td>EBK1426164.1</td>\n",
       "      <td>AMR</td>\n",
       "      <td>BLEOMYCIN</td>\n",
       "      <td>BLEOMYCIN</td>\n",
       "      <td>Salmonella enterica</td>\n",
       "      <td>AM49198</td>\n",
       "      <td>NaN</td>\n",
       "      <td>NaN</td>\n",
       "      <td>USA</td>\n",
       "      <td>clinical</td>\n",
       "      <td>NaN</td>\n",
       "      <td>NaN</td>\n",
       "    </tr>\n",
       "  </tbody>\n",
       "</table>\n",
       "</div>"
      ],
      "text/plain": [
       "       scientific_name         contig_acc biosample_acc bioproject_acc  \\\n",
       "0  Salmonella enterica  AAFUZC010000051.1  SAMN03098832            NaN   \n",
       "1  Salmonella enterica  AAFUZC010000051.1  SAMN03098832            NaN   \n",
       "2  Salmonella enterica  AAFUZC010000051.1  SAMN03098832            NaN   \n",
       "3  Salmonella enterica  AAFUZC010000073.1  SAMN03098832            NaN   \n",
       "4  Salmonella enterica  AAFUZC010000073.1  SAMN03098832            NaN   \n",
       "\n",
       "       target_acc element_symbol   protein_acc type        class  \\\n",
       "0  PDT000041084.2         blaDHA           NaN  AMR  BETA-LACTAM   \n",
       "1  PDT000041084.2            ble  EBK1426116.1  AMR    BLEOMYCIN   \n",
       "2  PDT000041084.2       blaNDM-1  EBK1426117.1  AMR  BETA-LACTAM   \n",
       "3  PDT000041084.2       blaNDM-1  EBK1426163.1  AMR  BETA-LACTAM   \n",
       "4  PDT000041084.2            ble  EBK1426164.1  AMR    BLEOMYCIN   \n",
       "\n",
       "        subclass        taxgroup_name   strain serovar isolation_source  \\\n",
       "0  CEPHALOSPORIN  Salmonella enterica  AM49198     NaN              NaN   \n",
       "1      BLEOMYCIN  Salmonella enterica  AM49198     NaN              NaN   \n",
       "2     CARBAPENEM  Salmonella enterica  AM49198     NaN              NaN   \n",
       "3     CARBAPENEM  Salmonella enterica  AM49198     NaN              NaN   \n",
       "4      BLEOMYCIN  Salmonella enterica  AM49198     NaN              NaN   \n",
       "\n",
       "  geo_loc_name  epi_type host collection_date  \n",
       "0          USA  clinical  NaN             NaN  \n",
       "1          USA  clinical  NaN             NaN  \n",
       "2          USA  clinical  NaN             NaN  \n",
       "3          USA  clinical  NaN             NaN  \n",
       "4          USA  clinical  NaN             NaN  "
      ]
     },
     "execution_count": 12,
     "metadata": {},
     "output_type": "execute_result"
    }
   ],
   "source": [
    "df.head()"
   ]
  },
  {
   "cell_type": "code",
   "execution_count": 13,
   "metadata": {},
   "outputs": [
    {
     "data": {
      "text/plain": [
       "Index(['scientific_name', 'contig_acc', 'biosample_acc', 'bioproject_acc',\n",
       "       'target_acc', 'element_symbol', 'protein_acc', 'type', 'class',\n",
       "       'subclass', 'taxgroup_name', 'strain', 'serovar', 'isolation_source',\n",
       "       'geo_loc_name', 'epi_type', 'host', 'collection_date'],\n",
       "      dtype='object')"
      ]
     },
     "execution_count": 13,
     "metadata": {},
     "output_type": "execute_result"
    }
   ],
   "source": [
    "df.columns"
   ]
  },
  {
   "cell_type": "markdown",
   "metadata": {},
   "source": [
    "The dataset has 138,886 rows and 18 columns. The description of the columns is the following:\n",
    "\n",
    "- scientific_name: the bacterial species name\n",
    "- contig_acc: the contig accesion number from NCBI, where the gene is present\n",
    "- biosample_acc: the biosample accession number\n",
    "- bioproject_acc: the bioproject accession number\n",
    "- target_acc: unsure, this seems to be an accession number for the genome assembly version\n",
    "- element_symbol: the gene name (e.g. _blaNDM-1_)\n",
    "- protein_acc: the protein accession number for the gene\n",
    "- type: the type of mechanism (e.g. AMR, antimicrobial resistance)\n",
    "- class: the functional class for the mechanism in this row\n",
    "- subclass: the functional subclass for the mechanism in this row\n",
    "- taxgroup_name: The taxonomic group. It may be similar to the scientific name, but unsure at the moment\n",
    "- strain: the strain for this genome\n",
    "- serovar: For some taxa, it could be a serovar classification.\n",
    "- isolation_source: The biological source of the sample (it seems). For example, blood.\n",
    "- geo_loc_name: the geographical origin of the isolate\n",
    "- epi_type: needs some exploration, it seems to be the type of strain (clinical, maybe environmental?)\n",
    "- host: The organism where this bacteria was isolated, for example _Homo sapiens_ (human)\n",
    "- collection_date: The date where the isolate was collected.\n",
    "\n",
    "Just from the first five rows, we can see that not all the columns are complete, and we need some additional filtering to have the data ready for analysis."
   ]
  }
 ],
 "metadata": {
  "kernelspec": {
   "display_name": "base",
   "language": "python",
   "name": "python3"
  },
  "language_info": {
   "codemirror_mode": {
    "name": "ipython",
    "version": 3
   },
   "file_extension": ".py",
   "mimetype": "text/x-python",
   "name": "python",
   "nbconvert_exporter": "python",
   "pygments_lexer": "ipython3",
   "version": "3.10.14"
  }
 },
 "nbformat": 4,
 "nbformat_minor": 2
}
